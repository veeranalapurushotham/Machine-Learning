{
 "cells": [
  {
   "cell_type": "code",
   "execution_count": 1,
   "id": "89f6974b",
   "metadata": {},
   "outputs": [
    {
     "name": "stdout",
     "output_type": "stream",
     "text": [
      "hello kalki\n"
     ]
    }
   ],
   "source": [
    "print(\"hello kalki\")"
   ]
  },
  {
   "cell_type": "markdown",
   "id": "ba113b07",
   "metadata": {},
   "source": [
    "gradient descet\n"
   ]
  },
  {
   "cell_type": "code",
   "execution_count": null,
   "id": "4e2d7ef3",
   "metadata": {},
   "outputs": [],
   "source": []
  }
 ],
 "metadata": {
  "kernelspec": {
   "display_name": "base",
   "language": "python",
   "name": "python3"
  },
  "language_info": {
   "codemirror_mode": {
    "name": "ipython",
    "version": 3
   },
   "file_extension": ".py",
   "mimetype": "text/x-python",
   "name": "python",
   "nbconvert_exporter": "python",
   "pygments_lexer": "ipython3",
   "version": "3.12.7"
  }
 },
 "nbformat": 4,
 "nbformat_minor": 5
}
