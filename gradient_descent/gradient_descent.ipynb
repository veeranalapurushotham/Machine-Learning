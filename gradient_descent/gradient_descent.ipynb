{
 "cells": [
  {
   "cell_type": "markdown",
   "id": "26b2b470",
   "metadata": {},
   "source": [
    "**this is code for gradient descent algorithm to find global minimum and compare using sklearn from linear_model.LenearRegression values of m and b**\n"
   ]
  },
  {
   "cell_type": "code",
   "execution_count": null,
   "id": "62796903",
   "metadata": {},
   "outputs": [],
   "source": [
    "import numpy as np\n",
    "import pandas as pd\n",
    "import math\n",
    "from sklearn import linear_model\n",
    "def gradient_descent(x,y):\n",
    "    m_curr = 0\n",
    "    b_curr = 0\n",
    "    learning_rate=0.00005\n",
    "    n=len(x)\n",
    "    iterations=10000\n",
    "    prev_cost=0\n",
    "    for i in range(iterations):\n",
    "        y_predicted=m_curr*x+b_curr\n",
    "      \n",
    "        \n",
    "\n",
    "        cost_function=(1/n)*sum((y-y_predicted)**2)\n",
    "        \n",
    "        print(\"m {},b {},cost_function {},iterations {}\".format(m_curr,b_curr,cost_function,i))\n",
    "       \n",
    "        pd_m=(-2/n)*sum(x*(y-y_predicted))\n",
    "        pd_b=(2/n)*sum(y-y_predicted)\n",
    "        m_curr=m_curr-learning_rate*pd_m\n",
    "        b_curr=b_curr-learning_rate*pd_b\n",
    "        if math.isclose(prev_cost,cost_function,rel_tol=1e-20):\n",
    "            break\n",
    "        prev_cost=cost_function\n",
    "        \n",
    "\n",
    "        print(\"m {},b {},cost_function {},iterations {}\".format(m_curr,b_curr,cost_function,i))\n",
    "\n",
    "    return m_curr,b_curr\n",
    "       \n",
    "def sklearn_gradient_descent(x,y):\n",
    "    reg=linear_model.LinearRegression()\n",
    "    reg.fit(x,y)\n",
    "    return reg.coef_,reg.intercept_\n",
    "\n",
    "df=pd.read_csv('test_scores_gradientdescent.csv')\n",
    "\n",
    "x=np.array(df['math'])\n",
    "y=np.array(df['cs'])\n",
    "\n",
    "m,b=gradient_descent(x,y)\n",
    "m,b=sklearn_gradient_descent(df[['math']],df['cs'])\n",
    "print(\"using gradient descent the  m {} and b {}\".format(m,b))\n",
    "print(\"using sklearn the  m {} and b {}\".format(m,b))"
   ]
  }
 ],
 "metadata": {
  "kernelspec": {
   "display_name": "base",
   "language": "python",
   "name": "python3"
  },
  "language_info": {
   "codemirror_mode": {
    "name": "ipython",
    "version": 3
   },
   "file_extension": ".py",
   "mimetype": "text/x-python",
   "name": "python",
   "nbconvert_exporter": "python",
   "pygments_lexer": "ipython3",
   "version": "3.12.7"
  }
 },
 "nbformat": 4,
 "nbformat_minor": 5
}
