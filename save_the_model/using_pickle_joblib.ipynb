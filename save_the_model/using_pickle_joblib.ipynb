{
 "cells": [
  {
   "cell_type": "markdown",
   "id": "b720a7f3",
   "metadata": {},
   "source": [
    " using pickel and joblib to save the linear regression model "
   ]
  },
  {
   "cell_type": "code",
   "execution_count": null,
   "id": "61e4680c",
   "metadata": {},
   "outputs": [],
   "source": [
    "import numpy as np\n",
    "import pandas as pd\n",
    "from sklearn import linear_model\n",
    "import pickle\n",
    "data=pd.read_csv('homeprices.csv')\n",
    "\n",
    "lg_model=linear_model.LinearRegression()\n",
    "lg_model.fit(data[['area']],data['price'])\n",
    "lg_model.predict([[4000]])\n",
    "\n"
   ]
  },
  {
   "cell_type": "code",
   "execution_count": null,
   "id": "5df811f6",
   "metadata": {},
   "outputs": [],
   "source": [
    "with open('pickle_model','wb') as t:\n",
    "    pickle.dump(lg_model,t)\n",
    "with open('pickle_model','rb') as f:\n",
    "    pm=pickle.load(f)\n",
    "predict_value=pm.predict([[4000]])\n",
    "print(predict_value)\n",
    "\n"
   ]
  },
  {
   "cell_type": "markdown",
   "id": "6f319357",
   "metadata": {},
   "source": [
    "***joblib***\n"
   ]
  },
  {
   "cell_type": "code",
   "execution_count": 4,
   "id": "3435b534",
   "metadata": {},
   "outputs": [
    {
     "name": "stderr",
     "output_type": "stream",
     "text": [
      "c:\\Users\\veera\\anaconda3\\Lib\\site-packages\\sklearn\\base.py:493: UserWarning: X does not have valid feature names, but LinearRegression was fitted with feature names\n",
      "  warnings.warn(\n"
     ]
    },
    {
     "data": {
      "text/plain": [
       "array([723767.12328767])"
      ]
     },
     "execution_count": 4,
     "metadata": {},
     "output_type": "execute_result"
    }
   ],
   "source": [
    "import joblib\n",
    "joblib.dump(lg_model,'joblib_model')\n",
    "jm=joblib.load('joblib_model')\n",
    "jm.predict([[4000]])"
   ]
  }
 ],
 "metadata": {
  "kernelspec": {
   "display_name": "base",
   "language": "python",
   "name": "python3"
  },
  "language_info": {
   "codemirror_mode": {
    "name": "ipython",
    "version": 3
   },
   "file_extension": ".py",
   "mimetype": "text/x-python",
   "name": "python",
   "nbconvert_exporter": "python",
   "pygments_lexer": "ipython3",
   "version": "3.12.7"
  }
 },
 "nbformat": 4,
 "nbformat_minor": 5
}
